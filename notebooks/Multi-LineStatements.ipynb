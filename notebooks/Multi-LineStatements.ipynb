{
 "cells": [
  {
   "cell_type": "markdown",
   "metadata": {
    "direction": "rtl",
    "tags": []
   },
   "source": [
    "<div dir=\"rtl\" align=\"right\" markdown=\"1\" style=\"font-family: 'Vazirmatn RD', IRANSansX, Arial, sans-serif;\">\n",
    "\n",
    "# خط‌های برنامه در پایتون\n",
    "\n",
    "کدهای برنامه در هر زبان سطح بالایی، مانند پایتون، شامل مجموعه‌ای از [راهنمال‌ها](https://fa.wiktionary.org/wiki/راهنمال) (Instruction) است؛ که اغلب برای [اجراشتن](https://fa.wiktionary.org/wiki/اجراشتن) هرکدامشان به [اجراشتن](https://fa.wiktionary.org/wiki/اجراشتن) چند دستور پردازنده‌ای (CPU) نیاز است. هر راهنمال اغلب در یک خط [نویسشته شود](https://fa.wiktionary.org/wiki/نویسشتن)، ولی گاهی نیازه، بخاطر افزودن خوانایی، اینچنین نباشد. برای این منظور، [ترجمیسار](https://fa.wiktionary.org/wiki/ترجمیسار) (Compiler) پایتون باید بشکلی [فهماید](https://fa.wiktionary.org/wiki/فهمادن) که پایان خط فیزیکی (خط [پایانِشْته](https://fa.wiktionary.org/wiki/پایانشته) با فرانویسه <span  dir=\"ltr\" markdown=\"1\">`\\n`</span>) همان پایان خط منطقی (خط معرف [یه](https://fa.wiktionary.org/wiki/یه) عبارت) نیست؛ تا بدرستی، هنگام [تَرْجُمیساشْتَن](https://fa.wiktionary.org/wiki/ترجمیساشتن) کدها، پایان خط‌های منطقی را برای آگاهادن [تَرْجُمار](https://fa.wiktionary.org/wiki/ترجمار) (Interpreter) با فرانویسه `NEWLINE` [بنموواید](https://fa.wiktionary.org/wiki/نمووادن).\n",
    "\n",
    "</div>\n"
   ]
  },
  {
   "cell_type": "code",
   "execution_count": 1,
   "metadata": {},
   "outputs": [
    {
     "data": {
      "text/plain": [
       "{'key1': 'val1', 'key2': 'val2'}"
      ]
     },
     "execution_count": 1,
     "metadata": {},
     "output_type": "execute_result"
    }
   ],
   "source": [
    "a = {\n",
    "    'key1': 'val1',\n",
    "    'key2': 'val2'\n",
    "}\n",
    "a"
   ]
  },
  {
   "cell_type": "markdown",
   "metadata": {
    "direction": "rtl",
    "tags": []
   },
   "source": [
    "<div dir=\"rtl\" align=\"right\" markdown=\"1\" style=\"font-family: 'Vazirmatn RD', Arial, sans-serif;\">\n",
    "\n",
    "## [مَیِّزیدَن](https://fa.wiktionary.org/wiki/میزیدن) خط‌های منطقی از فیزیکی\n",
    "\n",
    "در کدهای پایتون، به دو شکل خط‌های منطقی از فیزیکی [مَیِزِشْته شود](https://fa.wiktionary.org/wiki/میزشتن):\n",
    "\n",
    "* [ناآشکاریک](https://fa.wiktionary.org/wiki/ناآشکاریک) (Implicit): [ترجمیسار](https://fa.wiktionary.org/wiki/ترجمیسار) پایتون پایان خط منطقی را از روی کد [آریکاید](https://fa.wiktionary.org/wiki/آریکاید)؛\n",
    "* [آشکاریک](https://fa.wiktionary.org/wiki/آشکاریک) (Explicit): [اِدامِشْتِگی](https://fa.wiktionary.org/wiki/ادامیدگی) خط منطقی با افزودن [فرانویسه](https://fa.wiktionary.org/wiki/فرانویسه) `\\` در پایان خط فیزیکی [عَلَنِشْته شود](https://fa.wiktionary.org/wiki/علنشتن).\n",
    "\n",
    "### [مَیِّزیدَن](https://fa.wiktionary.org/wiki/میزیدن) نا‌آشکاریک\n",
    "\n",
    "* <span  dir=\"ltr\" markdown=\"1\">`[]`</span>: [نُوبَتیک](https://fa.wiktionary.org/wiki/نوبتیک) (`list`)\n",
    "\n",
    "</div>\n"
   ]
  },
  {
   "cell_type": "code",
   "execution_count": 2,
   "metadata": {
    "scrolled": true
   },
   "outputs": [
    {
     "name": "stdout",
     "output_type": "stream",
     "text": [
      "[1, 2]\n"
     ]
    }
   ],
   "source": [
    "a = [\n",
    "    1, # item 1\n",
    "    2  # item 2\n",
    "]\n",
    "\n",
    "print(a)"
   ]
  },
  {
   "cell_type": "markdown",
   "metadata": {
    "direction": "rtl"
   },
   "source": [
    "<div dir=\"rtl\" align=\"right\" markdown=\"1\" style=\"font-family: 'Vazirmatn RD', Arial, sans-serif;\">\n",
    "\n",
    "**نکته.** ممکنه گاهی بهتر باشد، برای افزودن خوانایی و زیبایی، ویرگول بین عنصرهای [دَسْتیک‌ها](https://fa.wiktionary.org/wiki/دستیک) در ابتدای هر خط [نَهِشْته بشود](https://fa.wiktionary.org/wiki/نهشتن): \n",
    "\n",
    "</div>\n"
   ]
  },
  {
   "cell_type": "code",
   "execution_count": 3,
   "metadata": {},
   "outputs": [],
   "source": [
    "a = {'key1': 1 # value for key 1\n",
    "    ,'key2': 2 # value for key 2\n",
    "    ,'key3': 3 # value for key 3\n",
    "    ,'key4': 4\n",
    "    }"
   ]
  },
  {
   "cell_type": "markdown",
   "metadata": {
    "direction": "rtl"
   },
   "source": [
    "<div dir=\"rtl\" align=\"right\" markdown=\"1\" style=\"font-family: 'Vazirmatn RD', Arial, sans-serif;\">\n",
    "\n",
    "* <span  dir=\"ltr\" markdown=\"1\">`{}`</span>: [جَمْعیک](https://fa.wiktionary.org/wiki/جمعیک) (`set`) یا [نِگاریک](https://fa.wiktionary.org/wiki/) (`dict`) \n",
    "\n",
    "</div>\n"
   ]
  },
  {
   "cell_type": "code",
   "execution_count": 4,
   "metadata": {},
   "outputs": [
    {
     "name": "stdout",
     "output_type": "stream",
     "text": [
      "{'key1': 1, 'key2': 2}\n"
     ]
    }
   ],
   "source": [
    "a = {\n",
    "    'key1': 1, # value for key 1\n",
    "    'key2': 2  # value for key 2\n",
    "}\n",
    "\n",
    "print(a)"
   ]
  },
  {
   "cell_type": "markdown",
   "metadata": {
    "direction": "rtl"
   },
   "source": [
    "<div dir=\"rtl\" align=\"right\" markdown=\"1\" style=\"font-family: 'Vazirmatn RD', Arial, sans-serif;\">\n",
    "\n",
    "* <span  dir=\"ltr\" markdown=\"1\">`()`</span>: [رُتبیک](https://fa.wiktionary.org/wiki/رتبیک) (`tuple`) و پارامتر/آرگومان تابع \n",
    "\n",
    "</div>\n"
   ]
  },
  {
   "cell_type": "code",
   "execution_count": 5,
   "metadata": {},
   "outputs": [
    {
     "name": "stdout",
     "output_type": "stream",
     "text": [
      "10 20 30\n"
     ]
    }
   ],
   "source": [
    "def my_func(\n",
    "    a, # arg 1\n",
    "    b, # arg 2\n",
    "    c  # arg 3\n",
    "):\n",
    "    print(a, b, c)\n",
    "\n",
    "a = (\n",
    "    10,\n",
    "    20,\n",
    "    30\n",
    ")\n",
    "\n",
    "my_func(*a)"
   ]
  },
  {
   "cell_type": "markdown",
   "metadata": {
    "direction": "rtl"
   },
   "source": [
    "<div dir=\"rtl\" align=\"right\" markdown=\"1\" style=\"font-family: 'Vazirmatn RD', Arial, sans-serif;\">\n",
    "\n",
    "* [کَرانِّویسه‌های](https://fa.wiktionary.org/wiki/کرانویسه) `'''` و `\"\"\"`: [کرانویسه‌های](https://fa.wiktionary.org/wiki/کرانویسه) رشته‌های چندخطی\n",
    "\n",
    "</div>\n"
   ]
  },
  {
   "cell_type": "code",
   "execution_count": 6,
   "metadata": {},
   "outputs": [
    {
     "name": "stdout",
     "output_type": "stream",
     "text": [
      "this \n",
      "is a string!\n",
      "this\n",
      "    is a string!\n"
     ]
    }
   ],
   "source": [
    "a = '''this \n",
    "is a string!'''\n",
    "print(a)\n",
    "\n",
    "def my_func():\n",
    "    a = \"\"\"this\n",
    "    is a string!\"\"\"\n",
    "    print(a)\n",
    "\n",
    "my_func()"
   ]
  },
  {
   "cell_type": "markdown",
   "metadata": {
    "direction": "rtl"
   },
   "source": [
    "<div dir=\"rtl\" align=\"right\" markdown=\"1\" style=\"font-family: 'Vazirmatn RD', Arial, sans-serif;\">\n",
    "\n",
    "### [مَیِزیدَن](https://fa.wiktionary.org/wiki/میزیدن) آشکاریک\n",
    "\n",
    "با [افزودن](https://fa.wiktionary.org/wiki/افزودن) [فَرانِویسه](https://fa.wiktionary.org/wiki/فرانویسه) `\\` در پایان خط فیزیکی [عَلَنِشته شود](https://fa.wiktionary.org/wiki/علنشتن): \n",
    "\n",
    "</div>\n"
   ]
  },
  {
   "cell_type": "code",
   "execution_count": 7,
   "metadata": {},
   "outputs": [
    {
     "name": "stdout",
     "output_type": "stream",
     "text": [
      "10 20 30\n",
      "10 20 30\n"
     ]
    }
   ],
   "source": [
    "a = 10\n",
    "b = 20\n",
    "c = 30\n",
    "\n",
    "if a > 5 and b > 10 and c > 20:\n",
    "    print(a, b, c)\n",
    "\n",
    "if a > 5 and \\\n",
    "    b > 10 and \\\n",
    "    c > 20:\n",
    "    print(a, b, c)"
   ]
  },
  {
   "cell_type": "markdown",
   "metadata": {
    "direction": "rtl"
   },
   "source": [
    "<div dir=\"rtl\" align=\"right\" markdown=\"1\" style=\"font-family: 'Vazirmatn RD', Arial, sans-serif;\">\n",
    "\n",
    "**نکته.** هنگام [قِسْمیدن](https://fa.wiktionary.org/wiki/قسمیدن) یه خط منطقی به چند خط فیزیکی، رعایت تورفتیگی کدها اهمیتی ندارد: \n",
    "\n",
    "</div>\n"
   ]
  },
  {
   "cell_type": "code",
   "execution_count": 8,
   "metadata": {},
   "outputs": [
    {
     "name": "stdout",
     "output_type": "stream",
     "text": [
      "10 20 30\n"
     ]
    }
   ],
   "source": [
    "a = 10\n",
    "b = 20\n",
    "c = 30\n",
    "\n",
    "if a > 5 and \\\n",
    "        b > 10 and \\\n",
    "            c > 20:\n",
    "    print(a, b, c)"
   ]
  },
  {
   "cell_type": "markdown",
   "metadata": {
    "direction": "rtl"
   },
   "source": [
    "<div dir=\"rtl\" align=\"right\" markdown=\"1\" style=\"font-family: 'Vazirmatn RD', Arial, sans-serif;\">\n",
    "\n",
    "**توجه.** بین اجزاء یه عبارت، حتی عبارت‌های چندخط، نمی‌توان [وصفاینده](https://fa.wiktionary.org/wiki/وصفاینده) (Comment) افزود:\n",
    "\n",
    "</div>\n",
    "\n",
    "<div dir=\"ltr\" align=\"left\" markdown=\"1\">\n",
    "\n",
    "```python\n",
    "if a \\\n",
    "    and b \\ # نمی‌توان وصفاینده افزود\n",
    "        and c:\n",
    "```\n",
    "\n",
    "</div>\n"
   ]
  }
 ],
 "metadata": {
  "kernelspec": {
   "display_name": "Python 3",
   "language": "python",
   "name": "python3"
  },
  "language_info": {
   "codemirror_mode": {
    "name": "ipython",
    "version": 3
   },
   "file_extension": ".py",
   "mimetype": "text/x-python",
   "name": "python",
   "nbconvert_exporter": "python",
   "pygments_lexer": "ipython3",
   "version": "3.9.2"
  },
  "toc-autonumbering": false,
  "toc-showcode": true,
  "toc-showtags": true,
  "vscode": {
   "interpreter": {
    "hash": "e7370f93d1d0cde622a1f8e1c04877d8463912d04d973331ad4851f04de6915a"
   }
  }
 },
 "nbformat": 4,
 "nbformat_minor": 4
}
